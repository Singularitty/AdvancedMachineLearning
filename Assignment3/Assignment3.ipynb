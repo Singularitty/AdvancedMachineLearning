{
 "cells": [
  {
   "cell_type": "markdown",
   "source": [
    "## Problem 2"
   ],
   "metadata": {
    "collapsed": false
   }
  },
  {
   "cell_type": "code",
   "execution_count": null,
   "outputs": [],
   "source": [
    "# Imports\n",
    "import pandas as pd\n",
    "import numpy as np\n",
    "from sklearn.datasets import load_breast_cancer\n",
    "from sklearn.linear_model import LogisticRegression\n",
    "from sklearn.tree import DecisionTreeClassifier\n",
    "from sklearn.ensemble import AdaBoostClassifier\n",
    "from sklearn.model_selection import train_test_split\n",
    "from sklearn.metrics import accuracy_score\n",
    "from sklearn.preprocessing import StandardScaler"
   ],
   "metadata": {
    "collapsed": false
   }
  },
  {
   "cell_type": "markdown",
   "source": [
    "Let's start by creating a new class for this system."
   ],
   "metadata": {
    "collapsed": false
   }
  },
  {
   "cell_type": "code",
   "execution_count": 72,
   "outputs": [],
   "source": [
    "def softmax(x):\n",
    "    return np.exp(x) /  np.exp(x).sum()\n",
    "\n",
    "class WeightedAverageEnsemble:\n",
    "    experts = None\n",
    "    weights = None\n",
    "    X_train = None\n",
    "    X_validation = None\n",
    "    y_validation = None\n",
    "    y_train = None\n",
    "\n",
    "    def __init__(self, experts : list):\n",
    "        self.experts = experts\n",
    "\n",
    "    def fit(self, X_train, y_train):\n",
    "        self.X_train, self.X_validation, self.y_train, self.y_validation = train_test_split(X_train, y_train, test_size=0.2)\n",
    "        accuracies = []\n",
    "        for model in self.experts:\n",
    "            model.fit(self.X_train, self.y_train)\n",
    "            model_preds = model.predict(self.X_validation)\n",
    "            accuracies.append(accuracy_score(model_preds, self.y_validation))\n",
    "        self.weights = softmax(accuracies)\n",
    "\n",
    "    def predict(self, X_test):\n",
    "        expert_predictions = []\n",
    "        for model in self.experts:\n",
    "            model_preds = model.predict(X_test)\n",
    "            expert_predictions.append(model_preds)\n",
    "        previsions = np.dot(self.weights, expert_predictions)\n",
    "        return [round(prev) for prev in previsions]"
   ],
   "metadata": {
    "collapsed": false
   }
  },
  {
   "cell_type": "markdown",
   "source": [
    "Import the dataset and scale the data"
   ],
   "metadata": {
    "collapsed": false
   }
  },
  {
   "cell_type": "code",
   "execution_count": 57,
   "outputs": [],
   "source": [
    "# Loading the dataset\n",
    "X, y = load_breast_cancer(return_X_y=True)\n",
    "\n",
    "X_train, X_test, y_train, y_test = train_test_split(X, y, test_size=0.2, random_state=212)\n",
    "scaler = StandardScaler()\n",
    "scaler.fit(X_train)\n",
    "X_train_scaled = scaler.transform(X_train)\n",
    "X_test_scaled = scaler.transform(X_test)"
   ],
   "metadata": {
    "collapsed": false
   }
  },
  {
   "cell_type": "markdown",
   "source": [],
   "metadata": {
    "collapsed": false
   }
  },
  {
   "cell_type": "code",
   "execution_count": 70,
   "outputs": [
    {
     "name": "stdout",
     "output_type": "stream",
     "text": [
      "0.9035087719298246\n"
     ]
    }
   ],
   "source": [
    "system_1 = WeightedAverageEnsemble([DecisionTreeClassifier(criterion=\"entropy\"), DecisionTreeClassifier(criterion=\"gini\")])\n",
    "system_1.fit(X_train, y_train)\n",
    "preds = system_1.predict(X_test)\n",
    "print(accuracy_score(preds, y_test))"
   ],
   "metadata": {
    "collapsed": false
   }
  },
  {
   "cell_type": "code",
   "execution_count": null,
   "outputs": [],
   "source": [
    "\n",
    "system_1 = WeightedAverageEnsemble([])\n",
    "system_1.fit(X_train, y_train)\n",
    "preds = system_1.predict(X_test)\n",
    "print(accuracy_score(preds, y_test))"
   ],
   "metadata": {
    "collapsed": false
   }
  }
 ],
 "metadata": {
  "kernelspec": {
   "display_name": "Python 3",
   "language": "python",
   "name": "python3"
  },
  "language_info": {
   "codemirror_mode": {
    "name": "ipython",
    "version": 2
   },
   "file_extension": ".py",
   "mimetype": "text/x-python",
   "name": "python",
   "nbconvert_exporter": "python",
   "pygments_lexer": "ipython2",
   "version": "2.7.6"
  }
 },
 "nbformat": 4,
 "nbformat_minor": 0
}
