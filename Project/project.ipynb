{
 "cells": [
  {
   "attachments": {},
   "cell_type": "markdown",
   "metadata": {},
   "source": [
    "# Aprendizagem Automática Avançada\n",
    "## Project\n",
    "### Luís Ferreirinha Nº51227\n",
    "### Christopher Anaya Nº60566"
   ]
  },
  {
   "attachments": {},
   "cell_type": "markdown",
   "metadata": {},
   "source": [
    "## Imports"
   ]
  },
  {
   "cell_type": "code",
   "execution_count": 1,
   "metadata": {},
   "outputs": [],
   "source": [
    "import h5py\n",
    "import clang.cindex\n",
    "import json\n",
    "import os\n",
    "import dask.dataframe as dd\n",
    "import pandas as pd\n",
    "import numpy as np\n",
    "import matplotlib.pyplot as plt\n",
    "import seaborn as sns"
   ]
  },
  {
   "cell_type": "code",
   "execution_count": 36,
   "metadata": {},
   "outputs": [],
   "source": [
    "import torch\n",
    "from torch_geometric.data import InMemoryDataset\n",
    "from tqdm import tqdm\n",
    "from torch_geometric.data import Data\n",
    "from sklearn.metrics import confusion_matrix, f1_score, \\\n",
    "    accuracy_score, precision_score, recall_score\n",
    "from torch_geometric.data import Dataset"
   ]
  },
  {
   "attachments": {},
   "cell_type": "markdown",
   "metadata": {},
   "source": [
    "## Data Preprocessing"
   ]
  },
  {
   "attachments": {},
   "cell_type": "markdown",
   "metadata": {},
   "source": [
    "We start by downloading the Draper dataset from: https://osf.io/d45bw/\n",
    "\n",
    "This is the dataset we will be analysing in this project, containing over a 1 milion C/C++ function definitions."
   ]
  },
  {
   "cell_type": "code",
   "execution_count": 2,
   "metadata": {},
   "outputs": [],
   "source": [
    "train_dataset = h5py.File('../../Dataset/VDISC_train.hdf5')\n",
    "validation_dataset = h5py.File('../../Dataset/VDISC_validate.hdf5')\n",
    "test_dataset = h5py.File('../../Dataset/VDISC_test.hdf5')"
   ]
  },
  {
   "attachments": {},
   "cell_type": "markdown",
   "metadata": {},
   "source": [
    "Now we will convert these datasets to Pandas"
   ]
  },
  {
   "cell_type": "code",
   "execution_count": 3,
   "metadata": {},
   "outputs": [],
   "source": [
    "def convert_to_pandas(dataset):\n",
    "    data_frame = {\n",
    "        'code': dataset['functionSource'],\n",
    "        'CWE-119': dataset['CWE-119'],\n",
    "        'CWE-120': dataset['CWE-120'],\n",
    "        'CWE-469': dataset['CWE-469'],\n",
    "        'CWE-476': dataset['CWE-476'],\n",
    "        'CWE-OTHERS': dataset['CWE-other'],\n",
    "    }\n",
    "\n",
    "    return pd.DataFrame(data=data_frame)\n",
    "\n",
    "train_pd = convert_to_pandas(train_dataset)\n",
    "validation_pd = convert_to_pandas(validation_dataset)\n",
    "test_pd = convert_to_pandas(test_dataset)"
   ]
  },
  {
   "attachments": {},
   "cell_type": "markdown",
   "metadata": {},
   "source": [
    "We can now take a look at the dataset"
   ]
  },
  {
   "cell_type": "code",
   "execution_count": 4,
   "metadata": {},
   "outputs": [
    {
     "data": {
      "text/html": [
       "<div>\n",
       "<style scoped>\n",
       "    .dataframe tbody tr th:only-of-type {\n",
       "        vertical-align: middle;\n",
       "    }\n",
       "\n",
       "    .dataframe tbody tr th {\n",
       "        vertical-align: top;\n",
       "    }\n",
       "\n",
       "    .dataframe thead th {\n",
       "        text-align: right;\n",
       "    }\n",
       "</style>\n",
       "<table border=\"1\" class=\"dataframe\">\n",
       "  <thead>\n",
       "    <tr style=\"text-align: right;\">\n",
       "      <th></th>\n",
       "      <th>code</th>\n",
       "      <th>CWE-119</th>\n",
       "      <th>CWE-120</th>\n",
       "      <th>CWE-469</th>\n",
       "      <th>CWE-476</th>\n",
       "      <th>CWE-OTHERS</th>\n",
       "    </tr>\n",
       "  </thead>\n",
       "  <tbody>\n",
       "    <tr>\n",
       "      <th>0</th>\n",
       "      <td>b'clear_area(int startx, int starty, int xsize...</td>\n",
       "      <td>False</td>\n",
       "      <td>False</td>\n",
       "      <td>False</td>\n",
       "      <td>False</td>\n",
       "      <td>False</td>\n",
       "    </tr>\n",
       "    <tr>\n",
       "      <th>1</th>\n",
       "      <td>b'ReconstructDuList(Statement* head)\\n{\\n    S...</td>\n",
       "      <td>False</td>\n",
       "      <td>False</td>\n",
       "      <td>False</td>\n",
       "      <td>False</td>\n",
       "      <td>False</td>\n",
       "    </tr>\n",
       "    <tr>\n",
       "      <th>2</th>\n",
       "      <td>b'free_speaker(void)\\n{\\n   if(Lengths)\\n     ...</td>\n",
       "      <td>False</td>\n",
       "      <td>False</td>\n",
       "      <td>False</td>\n",
       "      <td>False</td>\n",
       "      <td>False</td>\n",
       "    </tr>\n",
       "    <tr>\n",
       "      <th>3</th>\n",
       "      <td>b'mlx4_register_device(struct mlx4_dev *dev)\\n...</td>\n",
       "      <td>False</td>\n",
       "      <td>False</td>\n",
       "      <td>False</td>\n",
       "      <td>False</td>\n",
       "      <td>False</td>\n",
       "    </tr>\n",
       "    <tr>\n",
       "      <th>4</th>\n",
       "      <td>b'Parse_Env_Var(void)\\n{\\n  char *p = getenv(\"...</td>\n",
       "      <td>True</td>\n",
       "      <td>True</td>\n",
       "      <td>False</td>\n",
       "      <td>False</td>\n",
       "      <td>True</td>\n",
       "    </tr>\n",
       "    <tr>\n",
       "      <th>...</th>\n",
       "      <td>...</td>\n",
       "      <td>...</td>\n",
       "      <td>...</td>\n",
       "      <td>...</td>\n",
       "      <td>...</td>\n",
       "      <td>...</td>\n",
       "    </tr>\n",
       "    <tr>\n",
       "      <th>1019466</th>\n",
       "      <td>b'visitICmpInst(ICmpInst &amp;I) {\\n  // We must c...</td>\n",
       "      <td>False</td>\n",
       "      <td>False</td>\n",
       "      <td>False</td>\n",
       "      <td>False</td>\n",
       "      <td>False</td>\n",
       "    </tr>\n",
       "    <tr>\n",
       "      <th>1019467</th>\n",
       "      <td>b'path_node_delete_chain(path_node * head)\\n{\\...</td>\n",
       "      <td>False</td>\n",
       "      <td>False</td>\n",
       "      <td>False</td>\n",
       "      <td>False</td>\n",
       "      <td>False</td>\n",
       "    </tr>\n",
       "    <tr>\n",
       "      <th>1019468</th>\n",
       "      <td>b'addrconf6_start (NMDevice *self)\\n{\\n\\tNMDev...</td>\n",
       "      <td>False</td>\n",
       "      <td>False</td>\n",
       "      <td>False</td>\n",
       "      <td>False</td>\n",
       "      <td>False</td>\n",
       "    </tr>\n",
       "    <tr>\n",
       "      <th>1019469</th>\n",
       "      <td>b'Next(const SQObjectPtr &amp;refpos, SQObjectPtr ...</td>\n",
       "      <td>False</td>\n",
       "      <td>False</td>\n",
       "      <td>False</td>\n",
       "      <td>False</td>\n",
       "      <td>False</td>\n",
       "    </tr>\n",
       "    <tr>\n",
       "      <th>1019470</th>\n",
       "      <td>b'EffectHealMaxHealth(SpellEffectIndex /*eff_i...</td>\n",
       "      <td>False</td>\n",
       "      <td>False</td>\n",
       "      <td>False</td>\n",
       "      <td>False</td>\n",
       "      <td>False</td>\n",
       "    </tr>\n",
       "  </tbody>\n",
       "</table>\n",
       "<p>1019471 rows × 6 columns</p>\n",
       "</div>"
      ],
      "text/plain": [
       "                                                      code  CWE-119  CWE-120  \\\n",
       "0        b'clear_area(int startx, int starty, int xsize...    False    False   \n",
       "1        b'ReconstructDuList(Statement* head)\\n{\\n    S...    False    False   \n",
       "2        b'free_speaker(void)\\n{\\n   if(Lengths)\\n     ...    False    False   \n",
       "3        b'mlx4_register_device(struct mlx4_dev *dev)\\n...    False    False   \n",
       "4        b'Parse_Env_Var(void)\\n{\\n  char *p = getenv(\"...     True     True   \n",
       "...                                                    ...      ...      ...   \n",
       "1019466  b'visitICmpInst(ICmpInst &I) {\\n  // We must c...    False    False   \n",
       "1019467  b'path_node_delete_chain(path_node * head)\\n{\\...    False    False   \n",
       "1019468  b'addrconf6_start (NMDevice *self)\\n{\\n\\tNMDev...    False    False   \n",
       "1019469  b'Next(const SQObjectPtr &refpos, SQObjectPtr ...    False    False   \n",
       "1019470  b'EffectHealMaxHealth(SpellEffectIndex /*eff_i...    False    False   \n",
       "\n",
       "         CWE-469  CWE-476  CWE-OTHERS  \n",
       "0          False    False       False  \n",
       "1          False    False       False  \n",
       "2          False    False       False  \n",
       "3          False    False       False  \n",
       "4          False    False        True  \n",
       "...          ...      ...         ...  \n",
       "1019466    False    False       False  \n",
       "1019467    False    False       False  \n",
       "1019468    False    False       False  \n",
       "1019469    False    False       False  \n",
       "1019470    False    False       False  \n",
       "\n",
       "[1019471 rows x 6 columns]"
      ]
     },
     "execution_count": 4,
     "metadata": {},
     "output_type": "execute_result"
    }
   ],
   "source": [
    "train_pd"
   ]
  },
  {
   "attachments": {},
   "cell_type": "markdown",
   "metadata": {},
   "source": [
    "As we can see this dataset is composed of function definition which are classified according to 5 vulnerability categories.  \n",
    "\n",
    "For preprocessing and vector embedding processes we will have to join the three datasets. These will later be split before training the models."
   ]
  },
  {
   "cell_type": "code",
   "execution_count": 5,
   "metadata": {},
   "outputs": [],
   "source": [
    "dataset_joined = pd.concat([train_pd, validation_pd, test_pd], ignore_index=True)"
   ]
  },
  {
   "attachments": {},
   "cell_type": "markdown",
   "metadata": {},
   "source": [
    "## Per-Vulnerability Datasets\n",
    "\n",
    "Since our goal is to train classifiers for each type of vulnerability present here, we will have to split the dataset into 5 ones, one for each vulnerability."
   ]
  },
  {
   "attachments": {},
   "cell_type": "markdown",
   "metadata": {},
   "source": [
    "- CWE-120"
   ]
  },
  {
   "cell_type": "code",
   "execution_count": 6,
   "metadata": {},
   "outputs": [],
   "source": [
    "cols_to_drop = [\"CWE-119\", \"CWE-469\", \"CWE-476\", \"CWE-OTHERS\"]\n",
    "CWE_120_df = dataset_joined.drop(cols_to_drop, axis=1)"
   ]
  },
  {
   "attachments": {},
   "cell_type": "markdown",
   "metadata": {},
   "source": [
    "- CWE-119"
   ]
  },
  {
   "cell_type": "code",
   "execution_count": 7,
   "metadata": {},
   "outputs": [],
   "source": [
    "cols_to_drop = [\"CWE-120\", \"CWE-469\", \"CWE-476\", \"CWE-OTHERS\"]\n",
    "CWE_119_df = dataset_joined.drop(cols_to_drop, axis=1)"
   ]
  },
  {
   "attachments": {},
   "cell_type": "markdown",
   "metadata": {},
   "source": [
    "- CWE-469"
   ]
  },
  {
   "cell_type": "code",
   "execution_count": 8,
   "metadata": {},
   "outputs": [],
   "source": [
    "cols_to_drop = [\"CWE-120\", \"CWE-119\", \"CWE-476\", \"CWE-OTHERS\"]\n",
    "CWE_469_df = dataset_joined.drop(cols_to_drop, axis=1)"
   ]
  },
  {
   "attachments": {},
   "cell_type": "markdown",
   "metadata": {},
   "source": [
    "- CWE-476"
   ]
  },
  {
   "cell_type": "code",
   "execution_count": 9,
   "metadata": {},
   "outputs": [],
   "source": [
    "cols_to_drop = [\"CWE-120\", \"CWE-119\", \"CWE-469\", \"CWE-OTHERS\"]\n",
    "CWE_476_df = dataset_joined.drop(cols_to_drop, axis=1)"
   ]
  },
  {
   "attachments": {},
   "cell_type": "markdown",
   "metadata": {},
   "source": [
    "- CWE-OTHERS"
   ]
  },
  {
   "cell_type": "code",
   "execution_count": 10,
   "metadata": {},
   "outputs": [],
   "source": [
    "cols_to_drop = [\"CWE-120\", \"CWE-119\", \"CWE-469\", \"CWE-476\"]\n",
    "CWE_OTHERS_df = dataset_joined.drop(cols_to_drop, axis=1)"
   ]
  },
  {
   "attachments": {},
   "cell_type": "markdown",
   "metadata": {},
   "source": [
    "### Unbalanced classes\n",
    "\n",
    "The dataset we're using contains a great imbalance in the classes"
   ]
  },
  {
   "cell_type": "code",
   "execution_count": 11,
   "metadata": {},
   "outputs": [],
   "source": [
    "def plot_classes(dataset, vulnerability):\n",
    "    shuffled_df = dataset.sample(frac=1,random_state=4)\n",
    "    vul_df = shuffled_df.loc[shuffled_df[vulnerability] == True]\n",
    "    non_vul_df = shuffled_df.loc[shuffled_df[vulnerability] == False]\n",
    "    non_normalized_df = pd.concat([vul_df, non_vul_df])\n",
    "    plt.figure(figsize=(8, 8))\n",
    "    sns.countplot(x=vulnerability, data=non_normalized_df)\n",
    "    plt.title('Classes')\n",
    "    plt.show()"
   ]
  },
  {
   "cell_type": "code",
   "execution_count": 12,
   "metadata": {},
   "outputs": [
    {
     "data": {
      "image/png": "[encoded data removed]",
      "text/plain": [
       "<Figure size 800x800 with 1 Axes>"
      ]
     },
     "metadata": {},
     "output_type": "display_data"
    }
   ],
   "source": [
    "plot_classes(CWE_120_df, 'CWE-120')"
   ]
  },
  {
   "attachments": {},
   "cell_type": "markdown",
   "metadata": {},
   "source": [
    "We will have to fix this imbalance in the 5 previous datasets we created. This is important, because an imbalanced dataset will hinder the machine learning models and won't allow us to achieve decent classification results.  \n",
    "\n",
    "To fix this we will apply under-sampling to generate a 50/50 non-vulnerable:vulnerable subset for each vulnerability dataset."
   ]
  },
  {
   "cell_type": "code",
   "execution_count": 13,
   "metadata": {},
   "outputs": [],
   "source": [
    "def undersample(dataset, vulnerability_class):\n",
    "    shuffled_df = dataset.sample(frac=1, random_state=4)\n",
    "    vul_df = shuffled_df.loc[shuffled_df[vulnerability_class] == True]\n",
    "    non_vul_df = shuffled_df.loc[shuffled_df[vulnerability_class] == 0].sample(n=len(vul_df), random_state=42)\n",
    "    normalized_df = pd.concat([vul_df, non_vul_df])\n",
    "    return normalized_df"
   ]
  },
  {
   "cell_type": "code",
   "execution_count": 14,
   "metadata": {},
   "outputs": [],
   "source": [
    "normalized_CWE_120 = undersample(CWE_120_df, 'CWE-120')\n",
    "normalized_CWE_119 = undersample(CWE_119_df, 'CWE-119')\n",
    "normalized_CWE_469 = undersample(CWE_469_df, 'CWE-469')\n",
    "normalized_CWE_476 = undersample(CWE_476_df, 'CWE-476')\n",
    "normalized_CWE_OTHERS = undersample(CWE_OTHERS_df, 'CWE-OTHERS')"
   ]
  },
  {
   "cell_type": "code",
   "execution_count": 15,
   "metadata": {},
   "outputs": [
    {
     "data": {
      "image/png": "[encoded data removed]",
      "text/plain": [
       "<Figure size 800x800 with 1 Axes>"
      ]
     },
     "metadata": {},
     "output_type": "display_data"
    }
   ],
   "source": [
    "plot_classes(normalized_CWE_120, 'CWE-120')"
   ]
  },
  {
   "attachments": {},
   "cell_type": "markdown",
   "metadata": {},
   "source": [
    "Now we will prepare the dataset to be processed by clang and to generate the abstract syntax tree"
   ]
  },
  {
   "cell_type": "code",
   "execution_count": 16,
   "metadata": {},
   "outputs": [],
   "source": [
    "def add_column(row):\n",
    "    return {\"filename\": str(row.testCase_ID) + \"_vdisc.c\"}\n",
    "\n",
    "def prepare_for_clang(dataset, vulnerability):\n",
    "    dataset.reset_index(inplace=True)\n",
    "    dataset['type'] = vulnerability\n",
    "    dataset.columns = ['testCase_ID', 'code', 'vulnerable', 'type']\n",
    "    dataset['testCase_ID'] = dataset.index\n",
    "    filenames = dataset.apply(add_column, axis=1, result_type=\"expand\")\n",
    "    dataset.insert(1, \"filename\", filenames, True)"
   ]
  },
  {
   "cell_type": "code",
   "execution_count": 17,
   "metadata": {},
   "outputs": [],
   "source": [
    "prepare_for_clang(normalized_CWE_119, 'CWE-119')\n",
    "prepare_for_clang(normalized_CWE_120, 'CWE-120')\n",
    "prepare_for_clang(normalized_CWE_469, 'CWE-469')\n",
    "prepare_for_clang(normalized_CWE_476, 'CWE-476')\n",
    "prepare_for_clang(normalized_CWE_OTHERS, 'CWE-OTHERS')"
   ]
  },
  {
   "cell_type": "code",
   "execution_count": 18,
   "metadata": {},
   "outputs": [
    {
     "data": {
      "text/html": [
       "<div>\n",
       "<style scoped>\n",
       "    .dataframe tbody tr th:only-of-type {\n",
       "        vertical-align: middle;\n",
       "    }\n",
       "\n",
       "    .dataframe tbody tr th {\n",
       "        vertical-align: top;\n",
       "    }\n",
       "\n",
       "    .dataframe thead th {\n",
       "        text-align: right;\n",
       "    }\n",
       "</style>\n",
       "<table border=\"1\" class=\"dataframe\">\n",
       "  <thead>\n",
       "    <tr style=\"text-align: right;\">\n",
       "      <th></th>\n",
       "      <th>testCase_ID</th>\n",
       "      <th>filename</th>\n",
       "      <th>code</th>\n",
       "      <th>vulnerable</th>\n",
       "      <th>type</th>\n",
       "    </tr>\n",
       "  </thead>\n",
       "  <tbody>\n",
       "    <tr>\n",
       "      <th>0</th>\n",
       "      <td>0</td>\n",
       "      <td>0_vdisc.c</td>\n",
       "      <td>b'CDE_create_path_symlink_dirs() {\\n  char *p;...</td>\n",
       "      <td>True</td>\n",
       "      <td>CWE-119</td>\n",
       "    </tr>\n",
       "    <tr>\n",
       "      <th>1</th>\n",
       "      <td>1</td>\n",
       "      <td>1_vdisc.c</td>\n",
       "      <td>b'gperror(unsigned int code,\\n\\t     char *mes...</td>\n",
       "      <td>True</td>\n",
       "      <td>CWE-119</td>\n",
       "    </tr>\n",
       "    <tr>\n",
       "      <th>2</th>\n",
       "      <td>2</td>\n",
       "      <td>2_vdisc.c</td>\n",
       "      <td>b'test_date_rfc2822__format_rfc2822_positive_o...</td>\n",
       "      <td>True</td>\n",
       "      <td>CWE-119</td>\n",
       "    </tr>\n",
       "    <tr>\n",
       "      <th>3</th>\n",
       "      <td>3</td>\n",
       "      <td>3_vdisc.c</td>\n",
       "      <td>b'toggle_cb (GtkWidget *item, char *pref_name)...</td>\n",
       "      <td>True</td>\n",
       "      <td>CWE-119</td>\n",
       "    </tr>\n",
       "    <tr>\n",
       "      <th>4</th>\n",
       "      <td>4</td>\n",
       "      <td>4_vdisc.c</td>\n",
       "      <td>b'fixgrid34(NCDAPCOMMON* nccomm, CDFnode* grid...</td>\n",
       "      <td>True</td>\n",
       "      <td>CWE-119</td>\n",
       "    </tr>\n",
       "    <tr>\n",
       "      <th>...</th>\n",
       "      <td>...</td>\n",
       "      <td>...</td>\n",
       "      <td>...</td>\n",
       "      <td>...</td>\n",
       "      <td>...</td>\n",
       "    </tr>\n",
       "    <tr>\n",
       "      <th>48309</th>\n",
       "      <td>48309</td>\n",
       "      <td>48309_vdisc.c</td>\n",
       "      <td>b'fuse_graph_sync (xlator_t *this)\\n{\\n       ...</td>\n",
       "      <td>False</td>\n",
       "      <td>CWE-119</td>\n",
       "    </tr>\n",
       "    <tr>\n",
       "      <th>48310</th>\n",
       "      <td>48310</td>\n",
       "      <td>48310_vdisc.c</td>\n",
       "      <td>b'screen_resize(void)\\n{\\n    gint w, h;\\n    ...</td>\n",
       "      <td>False</td>\n",
       "      <td>CWE-119</td>\n",
       "    </tr>\n",
       "    <tr>\n",
       "      <th>48311</th>\n",
       "      <td>48311</td>\n",
       "      <td>48311_vdisc.c</td>\n",
       "      <td>b'cmd_cmpfiles (const char *assign_to, char *a...</td>\n",
       "      <td>False</td>\n",
       "      <td>CWE-119</td>\n",
       "    </tr>\n",
       "    <tr>\n",
       "      <th>48312</th>\n",
       "      <td>48312</td>\n",
       "      <td>48312_vdisc.c</td>\n",
       "      <td>b'etherType(PPPoEPacket *packet)\\n{\\n    UINT1...</td>\n",
       "      <td>False</td>\n",
       "      <td>CWE-119</td>\n",
       "    </tr>\n",
       "    <tr>\n",
       "      <th>48313</th>\n",
       "      <td>48313</td>\n",
       "      <td>48313_vdisc.c</td>\n",
       "      <td>b'tphif(real txi) const throw() {\\n    real\\n ...</td>\n",
       "      <td>False</td>\n",
       "      <td>CWE-119</td>\n",
       "    </tr>\n",
       "  </tbody>\n",
       "</table>\n",
       "<p>48314 rows × 5 columns</p>\n",
       "</div>"
      ],
      "text/plain": [
       "       testCase_ID       filename  \\\n",
       "0                0      0_vdisc.c   \n",
       "1                1      1_vdisc.c   \n",
       "2                2      2_vdisc.c   \n",
       "3                3      3_vdisc.c   \n",
       "4                4      4_vdisc.c   \n",
       "...            ...            ...   \n",
       "48309        48309  48309_vdisc.c   \n",
       "48310        48310  48310_vdisc.c   \n",
       "48311        48311  48311_vdisc.c   \n",
       "48312        48312  48312_vdisc.c   \n",
       "48313        48313  48313_vdisc.c   \n",
       "\n",
       "                                                    code  vulnerable     type  \n",
       "0      b'CDE_create_path_symlink_dirs() {\\n  char *p;...        True  CWE-119  \n",
       "1      b'gperror(unsigned int code,\\n\\t     char *mes...        True  CWE-119  \n",
       "2      b'test_date_rfc2822__format_rfc2822_positive_o...        True  CWE-119  \n",
       "3      b'toggle_cb (GtkWidget *item, char *pref_name)...        True  CWE-119  \n",
       "4      b'fixgrid34(NCDAPCOMMON* nccomm, CDFnode* grid...        True  CWE-119  \n",
       "...                                                  ...         ...      ...  \n",
       "48309  b'fuse_graph_sync (xlator_t *this)\\n{\\n       ...       False  CWE-119  \n",
       "48310  b'screen_resize(void)\\n{\\n    gint w, h;\\n    ...       False  CWE-119  \n",
       "48311  b'cmd_cmpfiles (const char *assign_to, char *a...       False  CWE-119  \n",
       "48312  b'etherType(PPPoEPacket *packet)\\n{\\n    UINT1...       False  CWE-119  \n",
       "48313  b'tphif(real txi) const throw() {\\n    real\\n ...       False  CWE-119  \n",
       "\n",
       "[48314 rows x 5 columns]"
      ]
     },
     "execution_count": 18,
     "metadata": {},
     "output_type": "execute_result"
    }
   ],
   "source": [
    "normalized_CWE_119"
   ]
  },
  {
   "attachments": {},
   "cell_type": "markdown",
   "metadata": {},
   "source": [
    "We will save the processed datasets as CSVs to facilitate testing and developtment of this project.  "
   ]
  },
  {
   "cell_type": "code",
   "execution_count": 47,
   "metadata": {},
   "outputs": [],
   "source": [
    "normalized_CWE_119.to_csv(\"./dataset/preprocessed/vdisc_CWE_119.csv.gz\")\n",
    "normalized_CWE_120.to_csv(\"./dataset/preprocessed/vdisc_CWE_120.csv.gz\")\n",
    "normalized_CWE_469.to_csv(\"./dataset/preprocessed/vdisc_CWE_469.csv.gz\")\n",
    "normalized_CWE_476.to_csv(\"./dataset/preprocessed/vdisc_CWE_476.csv.gz\")\n",
    "normalized_CWE_OTHERS.to_csv(\"./dataset/preprocessed/vdisc_CWE_OTHERS.csv.gz\")"
   ]
  },
  {
   "attachments": {},
   "cell_type": "markdown",
   "metadata": {},
   "source": [
    "## Extratcing the Abstract Syntax Tree"
   ]
  },
  {
   "attachments": {},
   "cell_type": "markdown",
   "metadata": {},
   "source": [
    "We will a set of functions to extract the AST of the code for each entry in our dataset. The functions we are using we're originally made by the author of the article which we're using as reference for this project, and use the python biddings for the clang compiler to enable the extraction of the AST."
   ]
  },
  {
   "cell_type": "code",
   "execution_count": 20,
   "metadata": {},
   "outputs": [],
   "source": [
    "from ast_extraction_graph2vec import *"
   ]
  },
  {
   "attachments": {},
   "cell_type": "markdown",
   "metadata": {},
   "source": [
    "Now we convert the CSVs to an AST. This takes 1 hour to run! The AST for each function is saved on a graph2vec/vulnerability directory, and these will server as input for graph2vec."
   ]
  },
  {
   "cell_type": "code",
   "execution_count": 21,
   "metadata": {},
   "outputs": [
    {
     "name": "stdout",
     "output_type": "stream",
     "text": [
      "Preprocess source code files and extracting AST's\n",
      "Done.\n",
      "Preprocess source code files and extracting AST's\n",
      "Done.\n",
      "Preprocess source code files and extracting AST's\n",
      "Done.\n",
      "Preprocess source code files and extracting AST's\n",
      "Done.\n",
      "Preprocess source code files and extracting AST's\n",
      "Done.\n"
     ]
    },
    {
     "data": {
      "text/plain": [
       "'./graph2vec/CWE_OTHERS//graph2vec_input/'"
      ]
     },
     "execution_count": 21,
     "metadata": {},
     "output_type": "execute_result"
    }
   ],
   "source": [
    "graph_Representaion_process(\"../../Dataset/vdisc_CWE_119.csv.gz\", \"./graph2vec/CWE_119/\", num_partitions=20)\n",
    "graph_Representaion_process(\"../../Dataset/vdisc_CWE_120.csv.gz\", \"./graph2vec/CWE_120/\", num_partitions=20)\n",
    "graph_Representaion_process(\"../../Dataset/vdisc_CWE_469.csv.gz\", \"./graph2vec/CWE_469/\", num_partitions=20)\n",
    "graph_Representaion_process(\"../../Dataset/vdisc_CWE_476.csv.gz\", \"./graph2vec/CWE_476/\", num_partitions=20)\n",
    "graph_Representaion_process(\"../../Dataset/vdisc_CWE_OTHERS.csv.gz\", \"./graph2vec/CWE_OTHERS/\", num_partitions=20)"
   ]
  },
  {
   "attachments": {},
   "cell_type": "markdown",
   "metadata": {},
   "source": [
    "## Creating the Vector Embeddings with Graph2vec"
   ]
  },
  {
   "attachments": {},
   "cell_type": "markdown",
   "metadata": {},
   "source": [
    "To create the vector embedding of the graph structure (Abstract Syntax Tree) we use the following graph2vec library https://github.com/benedekrozemberczki/graph2vec  \n",
    "\n",
    "The resulting vector embeddings will be saved in the following directory dataset/embeddings/  \n",
    "\n",
    "With this new representation of our dataset we can now train regular ML models."
   ]
  },
  {
   "cell_type": "code",
   "execution_count": null,
   "metadata": {
    "vscode": {
     "languageId": "shellscript"
    }
   },
   "outputs": [],
   "source": [
    "!python ./graph2vec-lib/src/graph2vec.py --input-path ./graph2vec/CWE_119/graph2vec_input/ --output ./dataset/embeddings/vector_CWE_119.csv\n",
    "!python ./graph2vec-lib/src/graph2vec.py --input-path ./graph2vec/CWE_120/graph2vec_input/ --output ./dataset/embeddings/vector_CWE_120.csv\n",
    "!python ./graph2vec-lib/src/graph2vec.py --input-path ./graph2vec/CWE_469/graph2vec_input/ --output ./dataset/embeddings/vector_CWE_469.csv\n",
    "!python ./graph2vec-lib/src/graph2vec.py --input-path ./graph2vec/CWE_476/graph2vec_input/ --output ./dataset/embeddings/vector_CWE_476.csv\n",
    "!python ./graph2vec-lib/src/graph2vec.py --input-path ./graph2vec/CWE_OTHERS/graph2vec_input/ --output ./dataset/embeddings/vector_CWE_OTHERS.csv"
   ]
  },
  {
   "attachments": {},
   "cell_type": "markdown",
   "metadata": {},
   "source": [
    "## Creating a dataset on Pytorch Geometric to train the Graph Neural Network"
   ]
  },
  {
   "attachments": {},
   "cell_type": "markdown",
   "metadata": {},
   "source": [
    "In order to train the Graph Neural Network we will have to extract the ASTs and build a dataset on Pytorch Geometric."
   ]
  },
  {
   "cell_type": "code",
   "execution_count": 89,
   "metadata": {},
   "outputs": [],
   "source": [
    "from ast_extraction_pytorch import *\n",
    "\n",
    "class GraphDataset(Dataset):\n",
    "    def __init__(self, root, path_dataset, transform=None, pre_transform=None):\n",
    "        self.path_to_data = path_dataset\n",
    "        super(GraphDataset, self).__init__(root, transform, pre_transform)\n",
    "\n",
    "    @property\n",
    "    def raw_file_names(self):\n",
    "        return []\n",
    "\n",
    "    # Dataset class requires the implementation of this method\n",
    "    @property\n",
    "    def processed_file_names(self):\n",
    "        return 'not_implemented.pt'\n",
    "    \n",
    "    def download(self):\n",
    "        pass\n",
    "\n",
    "    def process(self):\n",
    "        self.data = pd.read_csv(self.path_to_data)\n",
    "        for index, vuln in tqdm(self.data.iterrows(), total=self.data.shape[0]):\n",
    "            data = clang_process_pytorch(vuln)\n",
    "            torch.save(data, os.path.join(self.processed_dir, f'data_{index}.pt'))\n",
    "\n",
    "    def len(self):\n",
    "        return self.data.shape[0]\n",
    "\n",
    "    def get(self, idx):\n",
    "        data = torch.load(os.path.join(self.processed_dir, \n",
    "                                 f'data_{idx}.pt'))\n",
    "        return data"
   ]
  },
  {
   "cell_type": "code",
   "execution_count": 92,
   "metadata": {},
   "outputs": [
    {
     "name": "stderr",
     "output_type": "stream",
     "text": [
      "Processing...\n",
      "100%|██████████| 48314/48314 [14:10<00:00, 56.81it/s]\n",
      "Done!\n",
      "Processing...\n",
      "100%|██████████| 95320/95320 [28:21<00:00, 56.01it/s]\n",
      "Done!\n",
      "Processing...\n",
      "100%|██████████| 5250/5250 [01:36<00:00, 54.17it/s]\n",
      "Done!\n",
      "Processing...\n",
      "100%|██████████| 24188/24188 [07:45<00:00, 51.95it/s]\n",
      "Done!\n",
      "Processing...\n",
      "100%|██████████| 70056/70056 [22:38<00:00, 51.56it/s] \n",
      "Done!\n"
     ]
    }
   ],
   "source": [
    "graph_CWE_119 = GraphDataset(root='./dataset/preprocessed/CWE_119', path_dataset='./dataset/preprocessed/vdisc_CWE_119.csv.gz')\n",
    "graph_CWE_120 = GraphDataset(root='./dataset/preprocessed/CWE_120', path_dataset='./dataset/preprocessed/vdisc_CWE_120.csv.gz')\n",
    "graph_CWE_469 = GraphDataset(root='./dataset/preprocessed/CWE_469', path_dataset='./dataset/preprocessed/vdisc_CWE_469.csv.gz')\n",
    "graph_CWE_476 = GraphDataset(root='./dataset/preprocessed/CWE_470', path_dataset='./dataset/preprocessed/vdisc_CWE_476.csv.gz')\n",
    "graph_CWE_OTHERS = GraphDataset(root='./dataset/preprocessed/CWE_OTHERS', path_dataset='./dataset/preprocessed/vdisc_CWE_OTHERS.csv.gz')"
   ]
  },
  {
   "attachments": {},
   "cell_type": "markdown",
   "metadata": {},
   "source": [
    "Since it takes a very long time to process the datasets into graph datasets, we will save them to a file for ease of use.  \n",
    "\n",
    "We will be saving them in a pickle format, which allows to store python objects in binary files."
   ]
  },
  {
   "cell_type": "code",
   "execution_count": 93,
   "metadata": {},
   "outputs": [],
   "source": [
    "import pickle\n",
    "\n",
    "with open('./dataset/graphs/graph_CWE_119.pkl', 'wb') as outp:\n",
    "    pickle.dump(graph_CWE_119, outp, pickle.HIGHEST_PROTOCOL)\n",
    "\n",
    "with open('./dataset/graphs/graph_CWE_120.pkl', 'wb') as outp:\n",
    "    pickle.dump(graph_CWE_120, outp, pickle.HIGHEST_PROTOCOL)\n",
    "\n",
    "with open('./dataset/graphs/graph_CWE_469.pkl', 'wb') as outp:\n",
    "    pickle.dump(graph_CWE_469, outp, pickle.HIGHEST_PROTOCOL)\n",
    "\n",
    "with open('./dataset/graphs/graph_CWE_470.pkl', 'wb') as outp:\n",
    "    # Typo in previous dataset definiton, but since it takes over an hour to redo it\n",
    "    # I will just leave the typo here \n",
    "    pickle.dump(graph_CWE_476, outp, pickle.HIGHEST_PROTOCOL)\n",
    "\n",
    "with open('./dataset/graphs/graph_CWE_OTHERS.pkl', 'wb') as outp:\n",
    "    pickle.dump(graph_CWE_OTHERS, outp, pickle.HIGHEST_PROTOCOL)"
   ]
  },
  {
   "attachments": {},
   "cell_type": "markdown",
   "metadata": {},
   "source": [
    "If you want to work on this you must first transfer the pre-processed dataset"
   ]
  }
 ],
 "metadata": {
  "kernelspec": {
   "display_name": "base",
   "language": "python",
   "name": "python3"
  },
  "language_info": {
   "codemirror_mode": {
    "name": "ipython",
    "version": 3
   },
   "file_extension": ".py",
   "mimetype": "text/x-python",
   "name": "python",
   "nbconvert_exporter": "python",
   "pygments_lexer": "ipython3",
   "version": "3.9.13"
  },
  "orig_nbformat": 4
 },
 "nbformat": 4,
 "nbformat_minor": 2
}
