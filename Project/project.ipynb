{
 "cells": [
  {
   "attachments": {},
   "cell_type": "markdown",
   "metadata": {},
   "source": [
    "# Aprendizagem Automática Avançada\n",
    "## Project\n",
    "### Luís Ferreirinha Nº51227\n",
    "### Christopher Anaya Nº60566"
   ]
  },
  {
   "cell_type": "code",
   "execution_count": 1,
   "metadata": {},
   "outputs": [],
   "source": [
    "import h5py\n",
    "import pandas as pd\n",
    "import numpy as np\n",
    "import matplotlib.pyplot as plt\n",
    "import seaborn as sns"
   ]
  },
  {
   "attachments": {},
   "cell_type": "markdown",
   "metadata": {},
   "source": [
    "## Data Preprocessing"
   ]
  },
  {
   "attachments": {},
   "cell_type": "markdown",
   "metadata": {},
   "source": [
    "We start by downloading the Draper dataset from: https://osf.io/d45bw/\n",
    "\n",
    "This is the dataset we will be analysing in this project, containing over a 1 milion C/C++ function definitions."
   ]
  },
  {
   "cell_type": "code",
   "execution_count": 2,
   "metadata": {},
   "outputs": [],
   "source": [
    "train_dataset = h5py.File('../../Dataset/VDISC_train.hdf5')\n",
    "validation_dataset = h5py.File('../../Dataset/VDISC_validate.hdf5')\n",
    "test_dataset = h5py.File('../../Dataset/VDISC_test.hdf5')"
   ]
  },
  {
   "attachments": {},
   "cell_type": "markdown",
   "metadata": {},
   "source": [
    "Now we will convert these datasets to Pandas"
   ]
  },
  {
   "cell_type": "code",
   "execution_count": 3,
   "metadata": {},
   "outputs": [],
   "source": [
    "def convert_to_pandas(dataset):\n",
    "    data_frame = {\n",
    "        'code': dataset['functionSource'],\n",
    "        'CWE-119': dataset['CWE-119'],\n",
    "        'CWE-120': dataset['CWE-120'],\n",
    "        'CWE-469': dataset['CWE-469'],\n",
    "        'CWE-476': dataset['CWE-476'],\n",
    "        'CWE-OTHERS': dataset['CWE-other'],\n",
    "    }\n",
    "\n",
    "    return pd.DataFrame(data=data_frame)\n",
    "\n",
    "train_pd = convert_to_pandas(train_dataset)\n",
    "validation_pd = convert_to_pandas(validation_dataset)\n",
    "test_pd = convert_to_pandas(test_dataset)"
   ]
  },
  {
   "attachments": {},
   "cell_type": "markdown",
   "metadata": {},
   "source": [
    "We can now take a look at the dataset"
   ]
  },
  {
   "cell_type": "code",
   "execution_count": 4,
   "metadata": {},
   "outputs": [
    {
     "data": {
      "text/html": [
       "<div>\n",
       "<style scoped>\n",
       "    .dataframe tbody tr th:only-of-type {\n",
       "        vertical-align: middle;\n",
       "    }\n",
       "\n",
       "    .dataframe tbody tr th {\n",
       "        vertical-align: top;\n",
       "    }\n",
       "\n",
       "    .dataframe thead th {\n",
       "        text-align: right;\n",
       "    }\n",
       "</style>\n",
       "<table border=\"1\" class=\"dataframe\">\n",
       "  <thead>\n",
       "    <tr style=\"text-align: right;\">\n",
       "      <th></th>\n",
       "      <th>code</th>\n",
       "      <th>CWE-119</th>\n",
       "      <th>CWE-120</th>\n",
       "      <th>CWE-469</th>\n",
       "      <th>CWE-476</th>\n",
       "      <th>CWE-OTHERS</th>\n",
       "    </tr>\n",
       "  </thead>\n",
       "  <tbody>\n",
       "    <tr>\n",
       "      <th>0</th>\n",
       "      <td>b'clear_area(int startx, int starty, int xsize...</td>\n",
       "      <td>False</td>\n",
       "      <td>False</td>\n",
       "      <td>False</td>\n",
       "      <td>False</td>\n",
       "      <td>False</td>\n",
       "    </tr>\n",
       "    <tr>\n",
       "      <th>1</th>\n",
       "      <td>b'ReconstructDuList(Statement* head)\\n{\\n    S...</td>\n",
       "      <td>False</td>\n",
       "      <td>False</td>\n",
       "      <td>False</td>\n",
       "      <td>False</td>\n",
       "      <td>False</td>\n",
       "    </tr>\n",
       "    <tr>\n",
       "      <th>2</th>\n",
       "      <td>b'free_speaker(void)\\n{\\n   if(Lengths)\\n     ...</td>\n",
       "      <td>False</td>\n",
       "      <td>False</td>\n",
       "      <td>False</td>\n",
       "      <td>False</td>\n",
       "      <td>False</td>\n",
       "    </tr>\n",
       "    <tr>\n",
       "      <th>3</th>\n",
       "      <td>b'mlx4_register_device(struct mlx4_dev *dev)\\n...</td>\n",
       "      <td>False</td>\n",
       "      <td>False</td>\n",
       "      <td>False</td>\n",
       "      <td>False</td>\n",
       "      <td>False</td>\n",
       "    </tr>\n",
       "    <tr>\n",
       "      <th>4</th>\n",
       "      <td>b'Parse_Env_Var(void)\\n{\\n  char *p = getenv(\"...</td>\n",
       "      <td>True</td>\n",
       "      <td>True</td>\n",
       "      <td>False</td>\n",
       "      <td>False</td>\n",
       "      <td>True</td>\n",
       "    </tr>\n",
       "    <tr>\n",
       "      <th>...</th>\n",
       "      <td>...</td>\n",
       "      <td>...</td>\n",
       "      <td>...</td>\n",
       "      <td>...</td>\n",
       "      <td>...</td>\n",
       "      <td>...</td>\n",
       "    </tr>\n",
       "    <tr>\n",
       "      <th>1019466</th>\n",
       "      <td>b'visitICmpInst(ICmpInst &amp;I) {\\n  // We must c...</td>\n",
       "      <td>False</td>\n",
       "      <td>False</td>\n",
       "      <td>False</td>\n",
       "      <td>False</td>\n",
       "      <td>False</td>\n",
       "    </tr>\n",
       "    <tr>\n",
       "      <th>1019467</th>\n",
       "      <td>b'path_node_delete_chain(path_node * head)\\n{\\...</td>\n",
       "      <td>False</td>\n",
       "      <td>False</td>\n",
       "      <td>False</td>\n",
       "      <td>False</td>\n",
       "      <td>False</td>\n",
       "    </tr>\n",
       "    <tr>\n",
       "      <th>1019468</th>\n",
       "      <td>b'addrconf6_start (NMDevice *self)\\n{\\n\\tNMDev...</td>\n",
       "      <td>False</td>\n",
       "      <td>False</td>\n",
       "      <td>False</td>\n",
       "      <td>False</td>\n",
       "      <td>False</td>\n",
       "    </tr>\n",
       "    <tr>\n",
       "      <th>1019469</th>\n",
       "      <td>b'Next(const SQObjectPtr &amp;refpos, SQObjectPtr ...</td>\n",
       "      <td>False</td>\n",
       "      <td>False</td>\n",
       "      <td>False</td>\n",
       "      <td>False</td>\n",
       "      <td>False</td>\n",
       "    </tr>\n",
       "    <tr>\n",
       "      <th>1019470</th>\n",
       "      <td>b'EffectHealMaxHealth(SpellEffectIndex /*eff_i...</td>\n",
       "      <td>False</td>\n",
       "      <td>False</td>\n",
       "      <td>False</td>\n",
       "      <td>False</td>\n",
       "      <td>False</td>\n",
       "    </tr>\n",
       "  </tbody>\n",
       "</table>\n",
       "<p>1019471 rows × 6 columns</p>\n",
       "</div>"
      ],
      "text/plain": [
       "                                                      code  CWE-119  CWE-120  \\\n",
       "0        b'clear_area(int startx, int starty, int xsize...    False    False   \n",
       "1        b'ReconstructDuList(Statement* head)\\n{\\n    S...    False    False   \n",
       "2        b'free_speaker(void)\\n{\\n   if(Lengths)\\n     ...    False    False   \n",
       "3        b'mlx4_register_device(struct mlx4_dev *dev)\\n...    False    False   \n",
       "4        b'Parse_Env_Var(void)\\n{\\n  char *p = getenv(\"...     True     True   \n",
       "...                                                    ...      ...      ...   \n",
       "1019466  b'visitICmpInst(ICmpInst &I) {\\n  // We must c...    False    False   \n",
       "1019467  b'path_node_delete_chain(path_node * head)\\n{\\...    False    False   \n",
       "1019468  b'addrconf6_start (NMDevice *self)\\n{\\n\\tNMDev...    False    False   \n",
       "1019469  b'Next(const SQObjectPtr &refpos, SQObjectPtr ...    False    False   \n",
       "1019470  b'EffectHealMaxHealth(SpellEffectIndex /*eff_i...    False    False   \n",
       "\n",
       "         CWE-469  CWE-476  CWE-OTHERS  \n",
       "0          False    False       False  \n",
       "1          False    False       False  \n",
       "2          False    False       False  \n",
       "3          False    False       False  \n",
       "4          False    False        True  \n",
       "...          ...      ...         ...  \n",
       "1019466    False    False       False  \n",
       "1019467    False    False       False  \n",
       "1019468    False    False       False  \n",
       "1019469    False    False       False  \n",
       "1019470    False    False       False  \n",
       "\n",
       "[1019471 rows x 6 columns]"
      ]
     },
     "execution_count": 4,
     "metadata": {},
     "output_type": "execute_result"
    }
   ],
   "source": [
    "train_pd"
   ]
  },
  {
   "attachments": {},
   "cell_type": "markdown",
   "metadata": {},
   "source": [
    "As we can see this dataset is composed of function definition which are classified according to 5 vulnerability categories.  \n",
    "\n",
    "For preprocessing and vector embedding processes we will have to join the three datasets. These will later be split before training the models."
   ]
  },
  {
   "cell_type": "code",
   "execution_count": 5,
   "metadata": {},
   "outputs": [],
   "source": [
    "dataset_joined = pd.concat([train_pd, validation_pd, test_pd], ignore_index=True)"
   ]
  },
  {
   "attachments": {},
   "cell_type": "markdown",
   "metadata": {},
   "source": [
    "## Per-Vulnerability Datasets\n",
    "\n",
    "Since our goal is to train classifiers for each type of vulnerability present here, we will have to split the dataset into 5 ones, one for each vulnerability."
   ]
  },
  {
   "attachments": {},
   "cell_type": "markdown",
   "metadata": {},
   "source": [
    "#### CWE-120"
   ]
  },
  {
   "cell_type": "code",
   "execution_count": 6,
   "metadata": {},
   "outputs": [],
   "source": [
    "cols_to_drop = [\"CWE-119\", \"CWE-469\", \"CWE-476\", \"CWE-OTHERS\"]\n",
    "CWE_120_df = dataset_joined.drop(cols_to_drop, axis=1)"
   ]
  },
  {
   "attachments": {},
   "cell_type": "markdown",
   "metadata": {},
   "source": [
    "#### CWE-119"
   ]
  },
  {
   "cell_type": "code",
   "execution_count": 7,
   "metadata": {},
   "outputs": [],
   "source": [
    "cols_to_drop = [\"CWE-120\", \"CWE-469\", \"CWE-476\", \"CWE-OTHERS\"]\n",
    "CWE_119_df = dataset_joined.drop(cols_to_drop, axis=1)"
   ]
  },
  {
   "attachments": {},
   "cell_type": "markdown",
   "metadata": {},
   "source": [
    "#### CWE-469"
   ]
  },
  {
   "cell_type": "code",
   "execution_count": 8,
   "metadata": {},
   "outputs": [],
   "source": [
    "cols_to_drop = [\"CWE-120\", \"CWE-119\", \"CWE-476\", \"CWE-OTHERS\"]\n",
    "CWE_469_df = dataset_joined.drop(cols_to_drop, axis=1)"
   ]
  },
  {
   "attachments": {},
   "cell_type": "markdown",
   "metadata": {},
   "source": [
    "#### CWE-476"
   ]
  },
  {
   "cell_type": "code",
   "execution_count": 9,
   "metadata": {},
   "outputs": [],
   "source": [
    "cols_to_drop = [\"CWE-120\", \"CWE-119\", \"CWE-469\", \"CWE-OTHERS\"]\n",
    "CWE_476_df = dataset_joined.drop(cols_to_drop, axis=1)"
   ]
  },
  {
   "attachments": {},
   "cell_type": "markdown",
   "metadata": {},
   "source": [
    "#### CWE-OTHERS"
   ]
  },
  {
   "cell_type": "code",
   "execution_count": 10,
   "metadata": {},
   "outputs": [],
   "source": [
    "cols_to_drop = [\"CWE-120\", \"CWE-119\", \"CWE-469\", \"CWE-476\"]\n",
    "CWE_OTHERS_df = dataset_joined.drop(cols_to_drop, axis=1)"
   ]
  },
  {
   "attachments": {},
   "cell_type": "markdown",
   "metadata": {},
   "source": [
    "### Unbalanced classes\n",
    "\n",
    "The dataset we're using contains a great imbalance in the classes"
   ]
  },
  {
   "cell_type": "code",
   "execution_count": 21,
   "metadata": {},
   "outputs": [],
   "source": [
    "def plot_classes(dataset, vulnerability):\n",
    "    shuffled_df = dataset.sample(frac=1,random_state=4)\n",
    "    vul_df = shuffled_df.loc[shuffled_df[vulnerability] == True]\n",
    "    non_vul_df = shuffled_df.loc[shuffled_df[vulnerability] == False]\n",
    "    non_normalized_df = pd.concat([vul_df, non_vul_df])\n",
    "    plt.figure(figsize=(8, 8))\n",
    "    sns.countplot(x=vulnerability, data=non_normalized_df)\n",
    "    plt.title('Classes')\n",
    "    plt.show()"
   ]
  },
  {
   "cell_type": "code",
   "execution_count": 22,
   "metadata": {},
   "outputs": [
    {
     "data": {
      "image/png": "[encoded data removed]",
      "text/plain": [
       "<Figure size 800x800 with 1 Axes>"
      ]
     },
     "metadata": {},
     "output_type": "display_data"
    }
   ],
   "source": [
    "plot_classes(CWE_120_df, 'CWE-120')"
   ]
  },
  {
   "attachments": {},
   "cell_type": "markdown",
   "metadata": {},
   "source": [
    "We will have to fix this imbalance in the 5 previous datasets we created. This is important, because an imbalanced dataset will hinder the machine learning models and won't allow us to achieve decent classification results.  \n",
    "\n",
    "To fix this we will apply under-sampling to generate a 50/50 non-vulnerable:vulnerable subset for each vulnerability dataset."
   ]
  },
  {
   "cell_type": "code",
   "execution_count": 18,
   "metadata": {},
   "outputs": [],
   "source": [
    "def undersample(dataset, vulnerability_class):\n",
    "    shuffled_df = dataset.sample(frac=1, random_state=4)\n",
    "    vul_df = shuffled_df.loc[shuffled_df[vulnerability_class] == True]\n",
    "    non_vul_df = shuffled_df.loc[shuffled_df[vulnerability_class] == 0].sample(n=len(vul_df), random_state=42)\n",
    "    normalized_df = pd.concat([vul_df, non_vul_df])\n",
    "    return normalized_df"
   ]
  },
  {
   "cell_type": "code",
   "execution_count": 19,
   "metadata": {},
   "outputs": [],
   "source": [
    "normalized_CWE_120 = undersample(CWE_120_df, 'CWE-120')\n",
    "normalized_CWE_119 = undersample(CWE_119_df, 'CWE-119')\n",
    "normalized_CWE_469 = undersample(CWE_469_df, 'CWE-469')\n",
    "normalized_CWE_476 = undersample(CWE_476_df, 'CWE-476')\n",
    "normalized_CWE_OTHERS = undersample(CWE_OTHERS_df, 'CWE-OTHERS')"
   ]
  },
  {
   "cell_type": "code",
   "execution_count": 23,
   "metadata": {},
   "outputs": [
    {
     "data": {
      "image/png": "[encoded data removed]",
      "text/plain": [
       "<Figure size 800x800 with 1 Axes>"
      ]
     },
     "metadata": {},
     "output_type": "display_data"
    }
   ],
   "source": [
    "plot_classes(normalized_CWE_120, 'CWE-120')"
   ]
  },
  {
   "attachments": {},
   "cell_type": "markdown",
   "metadata": {},
   "source": [
    "Now we will prepare the dataset to be processed by clang and to generate the abstract syntax tree"
   ]
  },
  {
   "cell_type": "code",
   "execution_count": 26,
   "metadata": {},
   "outputs": [
    {
     "data": {
      "text/html": [
       "<div>\n",
       "<style scoped>\n",
       "    .dataframe tbody tr th:only-of-type {\n",
       "        vertical-align: middle;\n",
       "    }\n",
       "\n",
       "    .dataframe tbody tr th {\n",
       "        vertical-align: top;\n",
       "    }\n",
       "\n",
       "    .dataframe thead th {\n",
       "        text-align: right;\n",
       "    }\n",
       "</style>\n",
       "<table border=\"1\" class=\"dataframe\">\n",
       "  <thead>\n",
       "    <tr style=\"text-align: right;\">\n",
       "      <th></th>\n",
       "      <th>level_0</th>\n",
       "      <th>index</th>\n",
       "      <th>code</th>\n",
       "      <th>CWE-120</th>\n",
       "    </tr>\n",
       "  </thead>\n",
       "  <tbody>\n",
       "    <tr>\n",
       "      <th>0</th>\n",
       "      <td>0</td>\n",
       "      <td>1223826</td>\n",
       "      <td>b'create_NUBspline_1d_z (NUgrid* x_grid, BCtyp...</td>\n",
       "      <td>True</td>\n",
       "    </tr>\n",
       "    <tr>\n",
       "      <th>1</th>\n",
       "      <td>1</td>\n",
       "      <td>1079823</td>\n",
       "      <td>b'm92_startup(void)\\r\\n{\\r\\n\\tunsigned char *R...</td>\n",
       "      <td>True</td>\n",
       "    </tr>\n",
       "    <tr>\n",
       "      <th>2</th>\n",
       "      <td>2</td>\n",
       "      <td>916032</td>\n",
       "      <td>b'chirp_multi_lookup(const char *volume, const...</td>\n",
       "      <td>True</td>\n",
       "    </tr>\n",
       "    <tr>\n",
       "      <th>3</th>\n",
       "      <td>3</td>\n",
       "      <td>978421</td>\n",
       "      <td>b'_parse(VisuConfigFileEntry *entry, gchar **t...</td>\n",
       "      <td>True</td>\n",
       "    </tr>\n",
       "    <tr>\n",
       "      <th>4</th>\n",
       "      <td>4</td>\n",
       "      <td>863670</td>\n",
       "      <td>b'CDE_create_path_symlink_dirs() {\\n  char *p;...</td>\n",
       "      <td>True</td>\n",
       "    </tr>\n",
       "    <tr>\n",
       "      <th>...</th>\n",
       "      <td>...</td>\n",
       "      <td>...</td>\n",
       "      <td>...</td>\n",
       "      <td>...</td>\n",
       "    </tr>\n",
       "    <tr>\n",
       "      <th>95315</th>\n",
       "      <td>95315</td>\n",
       "      <td>527369</td>\n",
       "      <td>b\"widen_memory_access (rtx memref, enum machin...</td>\n",
       "      <td>False</td>\n",
       "    </tr>\n",
       "    <tr>\n",
       "      <th>95316</th>\n",
       "      <td>95316</td>\n",
       "      <td>847469</td>\n",
       "      <td>b'window_deleted_cb (GtkWidget     *widget,\\n\\...</td>\n",
       "      <td>False</td>\n",
       "    </tr>\n",
       "    <tr>\n",
       "      <th>95317</th>\n",
       "      <td>95317</td>\n",
       "      <td>345024</td>\n",
       "      <td>b'DoCreateItem(SpellEffectIndex eff_idx, uint3...</td>\n",
       "      <td>False</td>\n",
       "    </tr>\n",
       "    <tr>\n",
       "      <th>95318</th>\n",
       "      <td>95318</td>\n",
       "      <td>768501</td>\n",
       "      <td>b'MakeIMAttributeList (Xi18n i18n_core,\\n     ...</td>\n",
       "      <td>False</td>\n",
       "    </tr>\n",
       "    <tr>\n",
       "      <th>95319</th>\n",
       "      <td>95319</td>\n",
       "      <td>122155</td>\n",
       "      <td>b'get_matrix_row(const FE_SPACE *fe_space)\\n{\\...</td>\n",
       "      <td>False</td>\n",
       "    </tr>\n",
       "  </tbody>\n",
       "</table>\n",
       "<p>95320 rows × 4 columns</p>\n",
       "</div>"
      ],
      "text/plain": [
       "       level_0    index                                               code  \\\n",
       "0            0  1223826  b'create_NUBspline_1d_z (NUgrid* x_grid, BCtyp...   \n",
       "1            1  1079823  b'm92_startup(void)\\r\\n{\\r\\n\\tunsigned char *R...   \n",
       "2            2   916032  b'chirp_multi_lookup(const char *volume, const...   \n",
       "3            3   978421  b'_parse(VisuConfigFileEntry *entry, gchar **t...   \n",
       "4            4   863670  b'CDE_create_path_symlink_dirs() {\\n  char *p;...   \n",
       "...        ...      ...                                                ...   \n",
       "95315    95315   527369  b\"widen_memory_access (rtx memref, enum machin...   \n",
       "95316    95316   847469  b'window_deleted_cb (GtkWidget     *widget,\\n\\...   \n",
       "95317    95317   345024  b'DoCreateItem(SpellEffectIndex eff_idx, uint3...   \n",
       "95318    95318   768501  b'MakeIMAttributeList (Xi18n i18n_core,\\n     ...   \n",
       "95319    95319   122155  b'get_matrix_row(const FE_SPACE *fe_space)\\n{\\...   \n",
       "\n",
       "       CWE-120  \n",
       "0         True  \n",
       "1         True  \n",
       "2         True  \n",
       "3         True  \n",
       "4         True  \n",
       "...        ...  \n",
       "95315    False  \n",
       "95316    False  \n",
       "95317    False  \n",
       "95318    False  \n",
       "95319    False  \n",
       "\n",
       "[95320 rows x 4 columns]"
      ]
     },
     "execution_count": 26,
     "metadata": {},
     "output_type": "execute_result"
    }
   ],
   "source": [
    "def prepare_for_clang(dataset, vulnerability):\n",
    "    pass"
   ]
  }
 ],
 "metadata": {
  "kernelspec": {
   "display_name": "base",
   "language": "python",
   "name": "python3"
  },
  "language_info": {
   "codemirror_mode": {
    "name": "ipython",
    "version": 3
   },
   "file_extension": ".py",
   "mimetype": "text/x-python",
   "name": "python",
   "nbconvert_exporter": "python",
   "pygments_lexer": "ipython3",
   "version": "3.10.9"
  },
  "orig_nbformat": 4
 },
 "nbformat": 4,
 "nbformat_minor": 2
}
