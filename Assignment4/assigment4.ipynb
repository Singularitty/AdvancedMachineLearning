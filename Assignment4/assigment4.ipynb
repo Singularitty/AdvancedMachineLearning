{
 "cells": [
  {
   "attachments": {},
   "cell_type": "markdown",
   "metadata": {},
   "source": [
    "# Aprendizagem Automática Avançada\n",
    "## Assigment 4\n",
    "### Luís Ferreirinha Nº51127\n",
    "### Christopher Anaya Nª60566\n",
    "\n",
    "## Problem 2"
   ]
  },
  {
   "cell_type": "code",
   "execution_count": 67,
   "metadata": {},
   "outputs": [],
   "source": [
    "import numpy as np\n",
    "from hmmlearn import hmm\n",
    "import matplotlib.pyplot as plt"
   ]
  },
  {
   "attachments": {},
   "cell_type": "markdown",
   "metadata": {},
   "source": [
    "### a) construct the model assuming all parameters known"
   ]
  },
  {
   "cell_type": "code",
   "execution_count": 23,
   "metadata": {},
   "outputs": [
    {
     "data": {
      "text/plain": [
       "array([[5],\n",
       "       [5],\n",
       "       [3],\n",
       "       [0],\n",
       "       [4],\n",
       "       [2],\n",
       "       [1],\n",
       "       [0],\n",
       "       [5],\n",
       "       [0],\n",
       "       [5],\n",
       "       [1],\n",
       "       [0],\n",
       "       [0],\n",
       "       [4],\n",
       "       [1],\n",
       "       [2],\n",
       "       [3],\n",
       "       [5],\n",
       "       [4],\n",
       "       [2],\n",
       "       [1],\n",
       "       [0],\n",
       "       [3],\n",
       "       [2],\n",
       "       [4],\n",
       "       [5],\n",
       "       [5],\n",
       "       [2],\n",
       "       [3],\n",
       "       [1],\n",
       "       [5],\n",
       "       [0],\n",
       "       [5],\n",
       "       [4],\n",
       "       [4],\n",
       "       [1],\n",
       "       [2],\n",
       "       [3],\n",
       "       [1],\n",
       "       [2],\n",
       "       [1],\n",
       "       [2],\n",
       "       [0],\n",
       "       [4],\n",
       "       [0],\n",
       "       [3],\n",
       "       [1],\n",
       "       [3],\n",
       "       [5],\n",
       "       [3],\n",
       "       [0],\n",
       "       [4],\n",
       "       [5],\n",
       "       [5],\n",
       "       [5],\n",
       "       [2],\n",
       "       [1],\n",
       "       [3],\n",
       "       [5]])"
      ]
     },
     "execution_count": 23,
     "metadata": {},
     "output_type": "execute_result"
    }
   ],
   "source": [
    "rolls = np.array([[int(x) - 1] for x in \"664153216162115234653214356634261655234232315142464156663246\"])\n",
    "# states: 1 - loaded, 0 - fair\n",
    "dice = np.array([[1 if x == \"L\" else 0] for x in \"LLLLLLLLLLLLLLFFFFFFLLLLLLLLLLLLLLFFFFFFFFFFFFFFFFFFLLLLLLLL\"])\n",
    "rolls"
   ]
  },
  {
   "cell_type": "code",
   "execution_count": 25,
   "metadata": {},
   "outputs": [
    {
     "data": {
      "text/plain": [
       "-16.98461390418157"
      ]
     },
     "execution_count": 25,
     "metadata": {},
     "output_type": "execute_result"
    }
   ],
   "source": [
    "casino_model = hmm.CategoricalHMM(n_components=2)\n",
    "casino_model.n_features = 6\n",
    "casino_model.startprob_ = np.array([(0.1 / (0.05+0.1)),(0.05/(0.05+0.1))])\n",
    "casino_model.transmat_ = np.array([[0.95, 0.05],\n",
    "                                   [0.1, 0.90]])\n",
    "casino_model.emissionprob_ = np.array([[(1/6),(1/6),(1/6),(1/6),(1/6),(1/6)],\n",
    "                                       [(1/10),(1/10),(1/10),(1/10),(1/10),(5/10)]])\n",
    "casino_model.score(rolls[-10:])"
   ]
  },
  {
   "attachments": {},
   "cell_type": "markdown",
   "metadata": {},
   "source": [
    "### b)"
   ]
  },
  {
   "cell_type": "code",
   "execution_count": 55,
   "metadata": {},
   "outputs": [],
   "source": [
    "Xtrain = rolls[:-10]\n",
    "Xvalidate = rolls[-10:]\n",
    "runs = 50\n",
    "best_score = best_model = None\n",
    "for i in range(runs):\n",
    "    casino_model_b = hmm.CategoricalHMM(n_components=2, init_params='t',n_iter=1000, tol=0.001)\n",
    "    casino_model_b.n_features = 6\n",
    "    casino_model_b.startprob_ = np.array([(0.1 / (0.05+0.1)),(0.05/(0.05+0.1))])\n",
    "    casino_model_b.emissionprob_ = np.array([[(1/6),(1/6),(1/6),(1/6),(1/6),(1/6)],\n",
    "                                       [(1/10),(1/10),(1/10),(1/10),(1/10),(5/10)]])\n",
    "    casino_model_b.fit(Xtrain)\n",
    "    score = casino_model_b.score(Xvalidate)\n",
    "    if best_score is None or score > best_score:\n",
    "        best_score = score\n",
    "        best_model = casino_model_b"
   ]
  },
  {
   "cell_type": "code",
   "execution_count": 57,
   "metadata": {},
   "outputs": [
    {
     "data": {
      "text/plain": [
       "array([[0.08581278, 0.91418722],\n",
       "       [0.99175983, 0.00824017]])"
      ]
     },
     "execution_count": 57,
     "metadata": {},
     "output_type": "execute_result"
    }
   ],
   "source": [
    "best_model.transmat_"
   ]
  },
  {
   "cell_type": "code",
   "execution_count": 77,
   "metadata": {},
   "outputs": [
    {
     "name": "stderr",
     "output_type": "stream",
     "text": [
      "/tmp/ipykernel_19764/318103204.py:11: UserWarning: Matplotlib is currently using module://matplotlib_inline.backend_inline, which is a non-GUI backend, so cannot show the figure.\n",
      "  fig.show()\n"
     ]
    },
    {
     "data": {
      "image/png": "[encoded data removed]",
      "text/plain": [
       "<Figure size 640x480 with 1 Axes>"
      ]
     },
     "metadata": {},
     "output_type": "display_data"
    }
   ],
   "source": [
    "states = best_model.predict(rolls[-10:])\n",
    "\n",
    "fig, ax = plt.subplots()\n",
    "ax.plot(dice[-10:], label='Original Sequence')\n",
    "ax.plot(states + 1.5, label='Predicted Sequence')\n",
    "ax.set_yticks([])\n",
    "ax.set_title('States compared to generated')\n",
    "ax.set_xlabel('Time (# rolls)')\n",
    "ax.set_xlabel('State')\n",
    "ax.legend()\n",
    "fig.show()"
   ]
  },
  {
   "attachments": {},
   "cell_type": "markdown",
   "metadata": {},
   "source": [
    "### c)"
   ]
  },
  {
   "cell_type": "code",
   "execution_count": 89,
   "metadata": {},
   "outputs": [],
   "source": [
    "with open(\"rolls.txt\",'r') as infile:\n",
    "    dataset = infile.readlines()\n",
    "    X = [[int(i)-1] for i in dataset]\n",
    "\n",
    "with open(\"dice.txt\",\"r\") as infile:\n",
    "    dataset = infile.readlines()\n",
    "    Y = [[1 if i == \"L\" else 0] for i in dataset]\n",
    "\n",
    "XTrain = X[int(-len(X)/2):]\n",
    "XValidate = X[:int(-len(X)/2)]"
   ]
  }
 ],
 "metadata": {
  "kernelspec": {
   "display_name": "Python 3",
   "language": "python",
   "name": "python3"
  },
  "language_info": {
   "codemirror_mode": {
    "name": "ipython",
    "version": 3
   },
   "file_extension": ".py",
   "mimetype": "text/x-python",
   "name": "python",
   "nbconvert_exporter": "python",
   "pygments_lexer": "ipython3",
   "version": "3.10.6"
  },
  "orig_nbformat": 4,
  "vscode": {
   "interpreter": {
    "hash": "916dbcbb3f70747c44a77c7bcd40155683ae19c65e1c03b4aa3499c5328201f1"
   }
  }
 },
 "nbformat": 4,
 "nbformat_minor": 2
}
